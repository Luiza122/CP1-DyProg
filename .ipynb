{
 "cells": [
  {
   "cell_type": "code",
   "execution_count": null,
   "metadata": {
    "vscode": {
     "languageId": "plaintext"
    }
   },
   "outputs": [],
   "source": [
    "def manhattan_distance(point: Tuple[float, float]) -> float:\n",
    "    return abs(point[0]) + abs(point[1])"
   ]
  },
  {
   "cell_type": "code",
   "execution_count": null,
   "metadata": {
    "vscode": {
     "languageId": "plaintext"
    }
   },
   "outputs": [],
   "source": [
    "def merge_sort(points: List[Tuple[float, float]]) -> List[Tuple[float, float]]:\n",
    "    if len(points) <= 1:\n",
    "        return points\n",
    "    mid = len(points) // 2\n",
    "    left = merge_sort(points[:mid])\n",
    "    right = merge_sort(points[mid:])\n",
    "    return merge(left, right)\n",
    "\n",
    "    def merge(left: List[Tuple[float, float]], right: List[Tuple[float, float]]) -> List[Tuple[float, float]]:\n",
    "    sorted_list = []\n",
    "    i = j = 0\n",
    "    while i < len(left) and j < len(right):\n",
    "        if manhattan_distance(left[i]) < manhattan_distance(right[j]):\n",
    "            sorted_list.append(left[i])\n",
    "            i += 1\n",
    "        else:\n",
    "            sorted_list.append(right[j])\n",
    "            j += 1\n",
    "    sorted_list.extend(left[i:])\n",
    "    sorted_list.extend(right[j:])\n",
    "    return sorted_list\n"
   ]
  },
  {
   "cell_type": "code",
   "execution_count": null,
   "metadata": {
    "vscode": {
     "languageId": "plaintext"
    }
   },
   "outputs": [],
   "source": [
    "def quick_sort(points: List[Tuple[float, float]]) -> List[Tuple[float, float]]:\n",
    "    if len(points) <= 1:\n",
    "        return points\n",
    "    pivot = points[len(points) // 2]\n",
    "    lesser = [p for p in points if manhattan_distance(p) < manhattan_distance(pivot)]\n",
    "    equal = [p for p in points if manhattan_distance(p) == manhattan_distance(pivot)]\n",
    "    greater = [p for p in points if manhattan_distance(p) > manhattan_distance(pivot)]\n",
    "    return quick_sort(lesser) + equal + quick_sort(greater)"
   ]
  },
  {
   "cell_type": "code",
   "execution_count": null,
   "metadata": {
    "vscode": {
     "languageId": "plaintext"
    }
   },
   "outputs": [],
   "source": [
    "points = [(3.2, -4.5), (-2.1, 3.8), (5.6, -1.2), (-4.0, -3.5), (2.2, 2.9), (0.0, -6.0),\n",
    "          (-3.5, 3.5), (4.8, 1.1), (-1.2, -4.6), (3.3, 2.7)]\n"
   ]
  },
  {
   "cell_type": "code",
   "execution_count": null,
   "metadata": {
    "vscode": {
     "languageId": "plaintext"
    }
   },
   "outputs": [],
   "source": [
    "distance_dict = {point: manhattan_distance(point) for point in points}"
   ]
  },
  {
   "cell_type": "code",
   "execution_count": null,
   "metadata": {
    "vscode": {
     "languageId": "plaintext"
    }
   },
   "outputs": [],
   "source": [
    "words = [\"maçã\", \"banana\", \"cereja\", \"abacate\", \"melancia\", \"bolo de chocolate\", \"manga\", \"cerveja\", \"melaço\", \"ananas\", \"biscoito\", \"manja\"]\n",
    "priority = {'a': 1, 'b': 2, 'c': 3, 'e': 4, 'h': 5, 'l': 6, 'n': 7, 'p': 8, 'r': 9, 'y': 10}\n",
    "\n",
    "\n",
    "def custom_sort_key(word: str) -> List[int]:\n",
    "    return [priority.get(char, float('inf')) for char in word]"
   ]
  },
  {
   "cell_type": "code",
   "execution_count": null,
   "metadata": {
    "vscode": {
     "languageId": "plaintext"
    }
   },
   "outputs": [],
   "source": [
    "def merge_sort_words(words: List[str]) -> List[str]:\n",
    "    if len(words) <= 1:\n",
    "        return words\n",
    "    mid = len(words) // 2\n",
    "    left = merge_sort_words(words[:mid])\n",
    "    right = merge_sort_words(words[mid:])\n",
    "    return merge_words(left, right)\n",
    "\n",
    "def merge_words(left: List[str], right: List[str]) -> List[str]:\n",
    "    sorted_list = []\n",
    "    i = j = 0\n",
    "    while i < len(left) and j < len(right):\n",
    "        if custom_sort_key(left[i]) < custom_sort_key(right[j]):\n",
    "            sorted_list.append(left[i])\n",
    "            i += 1\n",
    "        else:\n",
    "            sorted_list.append(right[j])\n",
    "            j += 1\n",
    "    sorted_list.extend(left[i:])\n",
    "    sorted_list.extend(right[j:])\n",
    "    return sorted_list\n"
   ]
  },
  {
   "cell_type": "code",
   "execution_count": null,
   "metadata": {
    "vscode": {
     "languageId": "plaintext"
    }
   },
   "outputs": [],
   "source": [
    "def quick_sort_words(words: List[str]) -> List[str]:\n",
    "    if len(words) <= 1:\n",
    "        return words\n",
    "    pivot = words[len(words) // 2]\n",
    "    lesser = [w for w in words if custom_sort_key(w) < custom_sort_key(pivot)]\n",
    "    equal = [w for w in words if custom_sort_key(w) == custom_sort_key(pivot)]\n",
    "    greater = [w for w in words if custom_sort_key(w) > custom_sort_key(pivot)]\n",
    "    return quick_sort_words(lesser) + equal + quick_sort_words(greater)\n"
   ]
  },
  {
   "cell_type": "code",
   "execution_count": null,
   "metadata": {
    "vscode": {
     "languageId": "plaintext"
    }
   },
   "outputs": [],
   "source": [
    "#Tarefa 2.1 e 2.2\n",
    "\n",
    "start_time = time.time()\n",
    "merge_sorted_points = merge_sort(points)\n",
    "merge_time = time.time() - start_time\n",
    "merge_memory = sys.getsizeof(merge_sorted_points)\n",
    "\n",
    "start_time = time.time()\n",
    "quick_sorted_points = quick_sort(points)\n",
    "quick_time = time.time() - start_time\n",
    "quick_memory = sys.getsizeof(quick_sorted_points)"
   ]
  },
  {
   "cell_type": "code",
   "execution_count": null,
   "metadata": {
    "vscode": {
     "languageId": "plaintext"
    }
   },
   "outputs": [],
   "source": [
    "start_time = time.time()\n",
    "merge_sorted_words = merge_sort_words(words)\n",
    "merge_time_words = time.time() - start_time\n",
    "merge_memory_words = sys.getsizeof(merge_sorted_words)\n",
    "\n",
    "start_time = time.time()\n",
    "quick_sorted_words = quick_sort_words(words)\n",
    "quick_time_words = time.time() - start_time\n",
    "quick_memory_words = sys.getsizeof(quick_sorted_words)"
   ]
  },
  {
   "cell_type": "code",
   "execution_count": null,
   "metadata": {
    "vscode": {
     "languageId": "plaintext"
    }
   },
   "outputs": [],
   "source": [
    "print(\"Desempenho dos Algoritmos de Ordenação:\")\n",
    "print(f\"Merge Sort (Pontos) -> Tempo: {merge_time:.6f}s, Memória: {merge_memory} bytes\")\n",
    "print(f\"Quick Sort (Pontos) -> Tempo: {quick_time:.6f}s, Memória: {quick_memory} bytes\")\n",
    "print(f\"Merge Sort (Palavras) -> Tempo: {merge_time_words:.6f}s, Memória: {merge_memory_words} bytes\")\n",
    "print(f\"Quick Sort (Palavras) -> Tempo: {quick_time_words:.6f}s, Memória: {quick_memory_words} bytes\")"
   ]
  }
 ],
 "metadata": {
  "language_info": {
   "name": "python"
  }
 },
 "nbformat": 4,
 "nbformat_minor": 2
}
